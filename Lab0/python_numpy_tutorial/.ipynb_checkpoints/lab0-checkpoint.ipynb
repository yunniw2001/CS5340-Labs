{
 "cells": [
  {
   "cell_type": "markdown",
   "metadata": {},
   "source": [
    "# CS5340 Lab 0: Python Numpy Tutorial"
   ]
  },
  {
   "cell_type": "markdown",
   "metadata": {},
   "source": [
    "### Introduction\n",
    "In this optional assignment, you will get a very short introduction to the following:\n",
    "- Python programming language\n",
    "- Numpy operations\n",
    "\n",
    "We expect that many of you will have experience with Python and Numpy, so feel free to skip this tutorial if you are familiar with the concepts. For the rest, this assignment will serve as a quick crash course on the Python programming language, and its use in scientific programming.\n",
    "\n",
    "This assignment is worth **0%** of the final grade (i.e. completely optional).\n",
    "\n",
    "### Other Useful Resources\n",
    "This tutorial only covers the very basics. You might also find the following resources useful.\n",
    "\n",
    "#### Python\n",
    "- [CS231N Python Numpy tutorial](http://cs231n.github.io/python-numpy-tutorial/)\n",
    "- [Official Python 3.5 documentation](https://docs.python.org/3.5/)\n",
    "\n",
    "#### Numpy\n",
    "- [Numpy Quickstart Tutorial](https://docs.scipy.org/doc/numpy/user/quickstart.html)\n",
    "\n",
    "### Credits\n",
    "Certain parts of this tutorial is adapted from the excellent [CS231N Python Numpy tutorial](http://cs231n.github.io/python-numpy-tutorial/) by Justin Johnson from Stanford University."
   ]
  },
  {
   "cell_type": "markdown",
   "metadata": {},
   "source": [
    "---\n",
    "## Set up and Starting the Jupyter notebook"
   ]
  },
  {
   "cell_type": "markdown",
   "metadata": {},
   "source": [
    "### Python Installation\n",
    "Our assignments are all to be done in Python 3 (>=3.5). So install it if you don't have it yet. **As of time of writing, Python 3.8 has issues working with Jupyter notebook; you are advised to use Python 3.5/3.6/3.7.**\n",
    "\n",
    "#### Windows\n",
    "Download the binary from https://www.python.org/downloads/release/python-376/ and install.\n",
    "\n",
    "#### Mac\n",
    "Install Python 3 through homebrew: `brew install python3`\n",
    "\n",
    "#### Ubuntu\n",
    "Ubuntu 16.04 and above should come with Python 3 pre-installed.\n",
    "\n",
    "\n",
    "### Install required packages\n",
    "This introductory lab 0 requires the following python packages: Jupyter Lab and Numpy.\n",
    "You can install both packages using the following command.\n",
    "```\n",
    "pip install jupyterlab numpy\n",
    "``` \n",
    "Advanced users who are using Python for their other projects may wish to consider [virtual environments](https://docs.python.org/3/tutorial/venv.html) to avoid package compatibility issues.\n",
    "\n",
    "### Starting the Jupyter notebook\n",
    "Navigate to the directory containing the Jupyter notebook file (.ipynb) in command line, then run:\n",
    "```\n",
    "jupyter notebook\n",
    "```\n",
    "\n",
    "A browser window that looks like the following should appear:\n",
    "\n",
    "![](images/screenshot_1.png)\n",
    "\n",
    "Click on \"lab0.ipynb\" to start the notebook."
   ]
  },
  {
   "cell_type": "markdown",
   "metadata": {},
   "source": [
    "---\n",
    "## Introduction to Jupyter notebook\n",
    "For the course, we will use Jupyter notebooks to explain the questions, provide helper code to piece functions together, check your code and visualize results. The Jupyter notebook is a interactive computing environment that enables users to author notebook documents that include live code, narrative text (such as this), equations, etc. \n",
    "\n",
    "For example, to print \"Hello World\", just select the next cell and press the \"Run\" button on the top. Or press Shift+Enter to execute."
   ]
  },
  {
   "cell_type": "code",
   "execution_count": 1,
   "metadata": {},
   "outputs": [
    {
     "name": "stdout",
     "output_type": "stream",
     "text": [
      "hello world\n"
     ]
    }
   ],
   "source": [
    "print('hello world')"
   ]
  },
  {
   "cell_type": "markdown",
   "metadata": {},
   "source": [
    "---\n",
    "## Introduction to Python\n",
    "### Basic data types¶\n",
    "We first cover the commonly used basic data types: Integer/floats, booleans, strings.\n",
    "\n",
    "#### Numbers\n",
    "Integers and floats are similar to other languages. Unlike C/C++, Python 3 does not discriminate between integers/long integers, or float/double types. Integers in Python 3 are of unlimited size. Floats in Python 3 are implemented as double precision floats on most platforms. However, as we will see later, Numpy does discriminate these types."
   ]
  },
  {
   "cell_type": "code",
   "execution_count": 2,
   "metadata": {},
   "outputs": [
    {
     "name": "stdout",
     "output_type": "stream",
     "text": [
      "4 <class 'int'>\n",
      "3.5 <class 'float'>\n"
     ]
    }
   ],
   "source": [
    "i = 4\n",
    "f = 3.5\n",
    "print(i, type(i))  # Prints \"4 <class 'int'>\"\n",
    "print(f, type(f))  # Prints \"3.5 <class 'float'>\""
   ]
  },
  {
   "cell_type": "code",
   "execution_count": 3,
   "metadata": {},
   "outputs": [
    {
     "name": "stdout",
     "output_type": "stream",
     "text": [
      "5\n",
      "3\n",
      "8\n",
      "64\n"
     ]
    }
   ],
   "source": [
    "print(i + 1)   # Addition\n",
    "print(i - 1)   # Subtraction\n",
    "print(i * 2)   # Multiplication\n",
    "print(i ** 3)  # Exponentiation"
   ]
  },
  {
   "cell_type": "markdown",
   "metadata": {},
   "source": [
    "Similar to C/C++, augmented assignments are possible in Python. However note that '++' or '--' do not exist in Python:"
   ]
  },
  {
   "cell_type": "code",
   "execution_count": 4,
   "metadata": {},
   "outputs": [
    {
     "name": "stdout",
     "output_type": "stream",
     "text": [
      "3\n",
      "6\n"
     ]
    }
   ],
   "source": [
    "i = 2\n",
    "i += 1    # Equivalent to: i = i + 1\n",
    "print(i)  # Prints \"3\"\n",
    "i *= 2    # Equivalent to: i = i * 2\n",
    "print(i)  # Prints \"6\""
   ]
  },
  {
   "cell_type": "markdown",
   "metadata": {},
   "source": [
    "In Python 3, the division operator `/` returns the value in float even when the input is integers. Use double slashes `//` to force integer division."
   ]
  },
  {
   "cell_type": "code",
   "execution_count": 5,
   "metadata": {},
   "outputs": [
    {
     "name": "stdout",
     "output_type": "stream",
     "text": [
      "2.5 <class 'float'>\n",
      "2 <class 'int'>\n"
     ]
    }
   ],
   "source": [
    "a = 5/2\n",
    "print(a, type(a))  # Prints \"2.5 <class 'float'>\"\"\n",
    "b = 5//2\n",
    "print(b, type(b))  # Print \"2 <class 'int'>\"\". Floating point part is truncated."
   ]
  },
  {
   "cell_type": "markdown",
   "metadata": {},
   "source": [
    "#### Booleans\n",
    "Boolean operators in Python uses English words rather than symbols (e.g. &&, ||):"
   ]
  },
  {
   "cell_type": "code",
   "execution_count": 6,
   "metadata": {
    "scrolled": true
   },
   "outputs": [
    {
     "name": "stdout",
     "output_type": "stream",
     "text": [
      "<class 'bool'>\n"
     ]
    }
   ],
   "source": [
    "t, f = True, False\n",
    "print(type(t)) # Prints \"<class 'bool'>\""
   ]
  },
  {
   "cell_type": "code",
   "execution_count": 7,
   "metadata": {},
   "outputs": [
    {
     "name": "stdout",
     "output_type": "stream",
     "text": [
      "False\n",
      "True\n",
      "False\n"
     ]
    }
   ],
   "source": [
    "print(t and f) # Logical AND\n",
    "print(t or f)  # Logical OR\n",
    "print(not t)   # Logical NOT"
   ]
  },
  {
   "cell_type": "markdown",
   "metadata": {},
   "source": [
    "#### Strings"
   ]
  },
  {
   "cell_type": "code",
   "execution_count": 8,
   "metadata": {},
   "outputs": [
    {
     "name": "stdout",
     "output_type": "stream",
     "text": [
      "helloworld\n",
      "5\n"
     ]
    }
   ],
   "source": [
    "hello = 'hello'   # String literals can use single quotes\n",
    "world = \"world\"   # or double quotes; it does not matter.\n",
    "hw = hello + world  # concatenate strings using '+'\n",
    "print(hw)  # prints \"helloworld\"\n",
    "print(len(hello))  # print the length of hello: 5"
   ]
  },
  {
   "cell_type": "markdown",
   "metadata": {},
   "source": [
    "String can be formated using the `.format` operator, similar to sprintf in C++. See [here](https://docs.python.org/3/library/string.html) for more details."
   ]
  },
  {
   "cell_type": "code",
   "execution_count": 9,
   "metadata": {},
   "outputs": [
    {
     "name": "stdout",
     "output_type": "stream",
     "text": [
      "String is hello world.\n",
      "Numbers are 24, 1.235.\n"
     ]
    }
   ],
   "source": [
    "str1 = 'String is {} {}.'.format(hello, world)  # new style string formatting.\n",
    "str2 = 'Numbers are {}, {:.3f}.'.format(24, 1.23456)  # :.3f means print to 3dp\n",
    "print(str1)  # prints \"String is hello world.\"\n",
    "print(str2)  # prints \"Numbers are: 24, 1.235\""
   ]
  },
  {
   "cell_type": "markdown",
   "metadata": {},
   "source": [
    "### Containers\n",
    "Python includes several built-in container types. We only cover lists and dictionaries here.\n",
    "\n",
    "#### Lists\n",
    "A list is the Python equivalent of an array, but is resizeable and can contain elements of different types:"
   ]
  },
  {
   "cell_type": "code",
   "execution_count": 10,
   "metadata": {},
   "outputs": [
    {
     "name": "stdout",
     "output_type": "stream",
     "text": [
      "[3, 5, 4]\n",
      "5\n",
      "4\n"
     ]
    }
   ],
   "source": [
    "mylist = [3, 5, 4]   # Create a list\n",
    "print(mylist)  # Print entire list\n",
    "print(mylist[1])  # Print element 1, which is \"5\" (note python counts from 0)\n",
    "print(mylist[-1])  # Negative indices count from the end of the list; prints \"4\""
   ]
  },
  {
   "cell_type": "code",
   "execution_count": 11,
   "metadata": {},
   "outputs": [
    {
     "name": "stdout",
     "output_type": "stream",
     "text": [
      "[3, 5, 'hello']\n"
     ]
    }
   ],
   "source": [
    "mylist[2] = 'hello'    # Lists can contain elements of different types\n",
    "print(mylist)"
   ]
  },
  {
   "cell_type": "code",
   "execution_count": 12,
   "metadata": {},
   "outputs": [
    {
     "name": "stdout",
     "output_type": "stream",
     "text": [
      "[3, 5, 'hello', 'world']\n",
      "world [3, 5, 'hello']\n"
     ]
    }
   ],
   "source": [
    "mylist.append('world') # Use .append to add new element to the end\n",
    "print(mylist)\n",
    "popped = mylist.pop()  # .pop returns and remove the last element\n",
    "print(popped, mylist)"
   ]
  },
  {
   "cell_type": "markdown",
   "metadata": {},
   "source": [
    "In addition to accessing list elements one at a time, you can slice Python lists to obtain sublists."
   ]
  },
  {
   "cell_type": "code",
   "execution_count": 13,
   "metadata": {},
   "outputs": [
    {
     "name": "stdout",
     "output_type": "stream",
     "text": [
      "[0, 1, 2, 3]\n",
      "[1, 2]\n",
      "[1, 2, 3]\n",
      "[0, 1]\n",
      "[0, 1, 2]\n",
      "[0, 1, 100, 101]\n"
     ]
    }
   ],
   "source": [
    "list2 = list(range(4))    # Creates a list containing integers 0 <= i < 4\n",
    "print(list2)         # Prints \"[0, 1, 2, 3]\"\n",
    "print(list2[1:3])    # Get a slice from index 1 to 3 (exclusive); prints \"[1, 2]\"\n",
    "print(list2[1:])     # Slicing without the end index will include elements till the end; prints \"[1, 2, 3]\"\n",
    "print(list2[:2])     # Excluding start index will start from element 0; prints \"[0, 1]\"\n",
    "print(list2[:-1])    # Slice indices can be negative; this will print all but the last element.\n",
    "list2[2:4] = [100, 101]  # You can assign a list to a slice to modify it\n",
    "print(list2)         # Prints \"[0, 1, 100, 101]\""
   ]
  },
  {
   "cell_type": "markdown",
   "metadata": {},
   "source": [
    "### Dictionaries\n",
    "\n",
    "A dictionary stores (key, value) pairs, similar to a Map in Java/C++. You can use it like this:"
   ]
  },
  {
   "cell_type": "code",
   "execution_count": 14,
   "metadata": {},
   "outputs": [
    {
     "name": "stdout",
     "output_type": "stream",
     "text": [
      "meow\n",
      "True\n",
      "baaa\n"
     ]
    }
   ],
   "source": [
    "d = {'cat': 'meow', 'dog': 'woof'}  # Create a new dictionary with some data\n",
    "print(d['cat'])       # Get the entry corresponding to \"cat\"; prints \"meow\"\n",
    "print('cat' in d)     # Check if a dictionary has a given key; prints \"True\"\n",
    "d['sheep'] = 'baaa'    # Set an entry (it will be created if not already present)\n",
    "print(d['sheep'])      # Prints \"baaa\""
   ]
  },
  {
   "cell_type": "markdown",
   "metadata": {},
   "source": [
    "### Iterations:"
   ]
  },
  {
   "cell_type": "markdown",
   "metadata": {},
   "source": [
    "Like many languages, for and while loops exist in Python. They iterate over elements from an [iterable](https://docs.python.org/3/glossary.html#term-iterable). In many cases, you can use the [range()](https://docs.python.org/3/library/stdtypes.html#typesseq-range) keyword to create an iterable.\n",
    "\n",
    "Note that instead of using braces like in C++/Java, Python uses indentation to group statements."
   ]
  },
  {
   "cell_type": "code",
   "execution_count": 15,
   "metadata": {},
   "outputs": [
    {
     "name": "stdout",
     "output_type": "stream",
     "text": [
      "Iterate over the items [0,1,2,3].\n",
      "0\n",
      "1\n",
      "2\n",
      "3\n",
      "Iterate over an actual list.\n",
      "0\n",
      "1\n",
      "2\n",
      "3\n",
      "While works too\n",
      "0\n",
      "1\n",
      "2\n",
      "3\n"
     ]
    }
   ],
   "source": [
    "print(\"Iterate over the items [0,1,2,3].\")\n",
    "for i in range(4):\n",
    "    print(i)  # note that print(i) is indented by several spaces\n",
    "\n",
    "print(\"Iterate over an actual list.\")\n",
    "for i in [0,1,2,3]:\n",
    "    print(i)\n",
    "\n",
    "print(\"While works too\")\n",
    "i = 0\n",
    "while i < 4:\n",
    "    print(i)\n",
    "    i += 1"
   ]
  },
  {
   "cell_type": "markdown",
   "metadata": {},
   "source": [
    "### Functions and Conditionals\n",
    "Functions are defined using the `def` keyword. As before, indentation is used to group statements."
   ]
  },
  {
   "cell_type": "code",
   "execution_count": 16,
   "metadata": {},
   "outputs": [
    {
     "name": "stdout",
     "output_type": "stream",
     "text": [
      "--- Now running with i: 4\n",
      "x was < 5\n",
      "Result from SumPairXY: 8\n",
      "--- Now running with i: 6\n",
      "5 <= x < 10\n",
      "Result from SumPairXY: 12\n",
      "--- Now running with i: 8\n",
      "5 <= x < 10\n",
      "Result from SumPairXY: 16\n",
      "--- Now running with i: 10\n",
      "x was >= 10\n",
      "Result from SumPairXY: 20\n"
     ]
    }
   ],
   "source": [
    "def SumPairXY(x, y):\n",
    "    if (x < 5):\n",
    "        print(\"x was < 5\")\n",
    "    elif (x < 10):\n",
    "        print(\"5 <= x < 10\")\n",
    "    else:\n",
    "        print(\"x was >= 10\")\n",
    "    return x + y\n",
    "\n",
    "for i in range(4, 11, 2):  # i=4, 6, 8, 10 (start, stop, step)\n",
    "    print(\"--- Now running with i: {}\".format(i))\n",
    "    r = SumPairXY(i,i)\n",
    "    print(\"Result from SumPairXY: {}\".format(r))"
   ]
  },
  {
   "cell_type": "markdown",
   "metadata": {},
   "source": [
    "---\n",
    "## Short Introduction to Numpy"
   ]
  },
  {
   "cell_type": "markdown",
   "metadata": {},
   "source": [
    "We will mainly use Numpy for our assignments. Numpy is the core library for scientific computing in Python. Again, this is only a very brief introduction, and you are encouraged to look at the documentation for further details.\n",
    "\n",
    "To use Numpy, we first need to import the numpy package:"
   ]
  },
  {
   "cell_type": "code",
   "execution_count": 17,
   "metadata": {},
   "outputs": [],
   "source": [
    "import numpy as np  # Make numpy available using np."
   ]
  },
  {
   "cell_type": "markdown",
   "metadata": {},
   "source": [
    "Numpy's main object is the homogeneous multidimensional array. We can initialize numpy arrays from nested Python lists, and access elements using square brackets:\n"
   ]
  },
  {
   "cell_type": "code",
   "execution_count": 18,
   "metadata": {},
   "outputs": [
    {
     "name": "stdout",
     "output_type": "stream",
     "text": [
      "[1 2 3]\n",
      "[5 2 3]\n"
     ]
    }
   ],
   "source": [
    "a = np.array([1, 2, 3])  # Create a 1-dimensional array\n",
    "print(a)                 # prints [1, 2, 3]\n",
    "a[0] = 5                 # Change element 0 to 5\n",
    "print(a)                 # prints [5, 2, 3]"
   ]
  },
  {
   "cell_type": "code",
   "execution_count": 19,
   "metadata": {},
   "outputs": [
    {
     "name": "stdout",
     "output_type": "stream",
     "text": [
      "b:\n",
      " [[1 2 3]\n",
      " [4 5 6]]\n",
      "Shape: (2, 3)\n",
      "Elements (0,0), (0,1), (1,0): 1 2 4\n"
     ]
    }
   ],
   "source": [
    "b = np.array([[1,2,3],[4,5,6]])   # Create a 2-dimensional array (2x3 matrix)\n",
    "print('b:\\n', b)\n",
    "print('Shape:', b.shape)  # Prints the size of the array, i.e. (2, 3)\n",
    "print('Elements (0,0), (0,1), (1,0):', b[0, 0], b[0, 1], b[1, 0])"
   ]
  },
  {
   "cell_type": "markdown",
   "metadata": {},
   "source": [
    "Unlike Python lists, elements in a Numpy array have the same data type, which you can check using .dtype attribute. If not explicitly set, it will be determined from the input array."
   ]
  },
  {
   "cell_type": "code",
   "execution_count": 20,
   "metadata": {},
   "outputs": [
    {
     "name": "stdout",
     "output_type": "stream",
     "text": [
      "int64\n",
      "float64\n",
      "float64 float32\n"
     ]
    }
   ],
   "source": [
    "c = np.array([1, 2, 3])  # no type, will be implicitly set to np.int64\n",
    "print(c.dtype)\n",
    "d = np.array([1.0, 2, 3])  # Contains a float, so will be implicitly set to np.float64\n",
    "print(d.dtype)\n",
    "e = np.array([1, 2, 3], dtype=np.float64)  # You can set the type through the dtype argument\n",
    "f = c.astype(np.float32)  # Cast an array into another type\n",
    "print(e.dtype, f.dtype)"
   ]
  },
  {
   "cell_type": "markdown",
   "metadata": {},
   "source": [
    "Numpy also provides many functions to create arrays:"
   ]
  },
  {
   "cell_type": "code",
   "execution_count": 21,
   "metadata": {},
   "outputs": [
    {
     "name": "stdout",
     "output_type": "stream",
     "text": [
      "a:\n",
      " [[0. 0.]\n",
      " [0. 0.]]\n",
      "b:\n",
      " [[1. 1.]]\n",
      "c:\n",
      " [[5 5]\n",
      " [5 5]]\n",
      "d:\n",
      " [[1. 0.]\n",
      " [0. 1.]]\n"
     ]
    }
   ],
   "source": [
    "a = np.zeros((2,2))  # Create an 2x2 array of all zeros\n",
    "print('a:\\n', a)\n",
    "b = np.ones((1,2))   # Create an 1x2 array of all ones\n",
    "print('b:\\n', b)\n",
    "c = np.full((2,2), 5) # Create a constant array containing all 5's\n",
    "print('c:\\n', c)\n",
    "d = np.eye(2)        # Create a 2x2 identity matrix\n",
    "print('d:\\n', d)"
   ]
  },
  {
   "cell_type": "markdown",
   "metadata": {},
   "source": [
    "### Array Indexing\n",
    "Similiar to Python lists, Numpy offers many ways to index into arrays. For brevity, we only cover the basics. If you want to know more you should read the [documentation](https://docs.scipy.org/doc/numpy/reference/arrays.indexing.html).\n",
    "\n",
    "<u>Slicing</u>: Similar to Python's list slicing. This is probably the most common way to index an array. Since arrays may be multidimensional, you must specify a slice for each dimension of the array:"
   ]
  },
  {
   "cell_type": "code",
   "execution_count": 22,
   "metadata": {},
   "outputs": [
    {
     "name": "stdout",
     "output_type": "stream",
     "text": [
      "[[2 3]\n",
      " [6 7]]\n"
     ]
    }
   ],
   "source": [
    "# Create the following 2-dimensional array with shape (3, 4)\n",
    "# [[ 1  2  3  4]\n",
    "#  [ 5  6  7  8]\n",
    "#  [ 9 10 11 12]]\n",
    "a = np.array([[1,2,3,4], [5,6,7,8], [9,10,11,12]])\n",
    "\n",
    "# Use slicing to pull out the subarray consisting of the first 2 rows\n",
    "# and columns 1 and 2; b is the following array of shape (2, 2):\n",
    "# [[2 3]\n",
    "#  [6 7]]\n",
    "b = a[:2, 1:3]\n",
    "print(b)"
   ]
  },
  {
   "cell_type": "markdown",
   "metadata": {},
   "source": [
    "<u>Boolean array indexing</u>: Boolean array indexing lets you pick out arbitrary elements of an array using a boolean mask."
   ]
  },
  {
   "cell_type": "code",
   "execution_count": 23,
   "metadata": {},
   "outputs": [
    {
     "name": "stdout",
     "output_type": "stream",
     "text": [
      "[[False False]\n",
      " [ True  True]\n",
      " [ True  True]]\n"
     ]
    }
   ],
   "source": [
    "import numpy as np\n",
    "\n",
    "a = np.array([[1,2], [3, 4], [5, 6]])\n",
    "\n",
    "bool_idx = (a > 2)  # Retrieves elements of a that are bigger than 2.\n",
    "                    # This returns a numpy array of Booleans of the same\n",
    "                    # shape as a, where each element is True if the\n",
    "                    # corresponding element of a is > 2, False otherwise.\n",
    "print(bool_idx)\n"
   ]
  },
  {
   "cell_type": "code",
   "execution_count": 24,
   "metadata": {},
   "outputs": [
    {
     "name": "stdout",
     "output_type": "stream",
     "text": [
      "[3 4 5 6]\n",
      "[3 4 5 6]\n"
     ]
    }
   ],
   "source": [
    "# Retrieves elements of a which have a corresponding value of True in bool_idx\n",
    "print(a[bool_idx])\n",
    "\n",
    "# We can do all of the above in a single concise statement\n",
    "print(a[a > 2])"
   ]
  },
  {
   "cell_type": "markdown",
   "metadata": {},
   "source": [
    "### Array Math"
   ]
  },
  {
   "cell_type": "code",
   "execution_count": 25,
   "metadata": {},
   "outputs": [
    {
     "name": "stdout",
     "output_type": "stream",
     "text": [
      "[[ 6.  8.]\n",
      " [10. 12.]]\n",
      "[[-4. -4.]\n",
      " [-4. -4.]]\n",
      "[[ 5. 12.]\n",
      " [21. 32.]]\n",
      "[[0.2        0.33333333]\n",
      " [0.42857143 0.5       ]]\n"
     ]
    }
   ],
   "source": [
    "x = np.array([[1,2],[3,4]], dtype=np.float64)\n",
    "y = np.array([[5,6],[7,8]], dtype=np.float64)\n",
    "\n",
    "# Elementwise sum, difference, product, and division\n",
    "print(x + y)\n",
    "print(x - y)\n",
    "print(x * y)\n",
    "print(x / y)"
   ]
  },
  {
   "cell_type": "markdown",
   "metadata": {},
   "source": [
    "<u>**Important!**</u> Unlike MATLAB, `*` is elementwise multiplication, not matrix multiplication. For matrix multiplication (or vector inner dot products), we use the dot function. dot is available both as a function in the numpy module and as an instance method of array objects. Alternatively you can use the `@` operator."
   ]
  },
  {
   "cell_type": "code",
   "execution_count": 26,
   "metadata": {},
   "outputs": [
    {
     "name": "stdout",
     "output_type": "stream",
     "text": [
      "[[19 22]\n",
      " [43 50]]\n",
      "[[19 22]\n",
      " [43 50]]\n",
      "[[19 22]\n",
      " [43 50]]\n"
     ]
    }
   ],
   "source": [
    "x = np.array([[1,2],[3,4]])\n",
    "y = np.array([[5,6],[7,8]])\n",
    "\n",
    "# Matrix-matrix product; all the following are equivalent\n",
    "print(x.dot(y))\n",
    "print(np.dot(x, y))\n",
    "print(x @ y)"
   ]
  },
  {
   "cell_type": "markdown",
   "metadata": {},
   "source": [
    "### Useful functions on arrays\n",
    "\n",
    "Numpy provides many useful functions for performing computations on arrays, such as the sum:"
   ]
  },
  {
   "cell_type": "code",
   "execution_count": 27,
   "metadata": {},
   "outputs": [
    {
     "name": "stdout",
     "output_type": "stream",
     "text": [
      "10\n",
      "[4 6]\n",
      "[3 7]\n"
     ]
    }
   ],
   "source": [
    "x = np.array([[1,2],\n",
    "              [3,4]])\n",
    "\n",
    "print(np.sum(x))  # Compute sum of all elements; prints \"10\"\n",
    "print(np.sum(x, axis=0))  # Compute sum of each column; prints \"[4 6]\"\n",
    "print(np.sum(x, axis=1))  # Compute sum of each row; prints \"[3 7]\""
   ]
  },
  {
   "cell_type": "markdown",
   "metadata": {},
   "source": [
    "Besides the sum, many other common operations are available, such as computing the mean/min/max of an array. Many of these operations also accept an `axis` argument similar to np.sum()."
   ]
  },
  {
   "cell_type": "code",
   "execution_count": 28,
   "metadata": {},
   "outputs": [
    {
     "name": "stdout",
     "output_type": "stream",
     "text": [
      "Showing some basic math on arrays\n",
      "Max: 4\n",
      "Mean: 2.0\n",
      "Max index: 2\n"
     ]
    }
   ],
   "source": [
    "print(\"Showing some basic math on arrays\")\n",
    "b = np.array([0,1,4,3,2])\n",
    "print(\"Max: {}\".format(np.max(b)))\n",
    "print(\"Mean: {}\".format(np.mean(b)))\n",
    "print(\"Max index: {}\".format(np.argmax(b)))  # position of max element"
   ]
  },
  {
   "cell_type": "markdown",
   "metadata": {},
   "source": [
    "Other important functions which you will likely use include transpose and inverse:"
   ]
  },
  {
   "cell_type": "code",
   "execution_count": 29,
   "metadata": {},
   "outputs": [
    {
     "name": "stdout",
     "output_type": "stream",
     "text": [
      "[[1 2]\n",
      " [3 4]]\n",
      "[[1 3]\n",
      " [2 4]]\n",
      "[[1 3]\n",
      " [2 4]]\n",
      "[[-2.   1. ]\n",
      " [ 1.5 -0.5]]\n"
     ]
    }
   ],
   "source": [
    "x = np.array([[1,2],[3,4]])\n",
    "print(x)\n",
    "print(x.T)  # .T tranposes the matrix\n",
    "print(x.transpose())  # .transpose() does the same thing\n",
    "print(np.linalg.inv(x))  # Inverse of the matrix"
   ]
  },
  {
   "cell_type": "markdown",
   "metadata": {},
   "source": [
    "In computer vision, the singular value decomposition is an important operation, which can also be found in Numpy."
   ]
  },
  {
   "cell_type": "code",
   "execution_count": 30,
   "metadata": {},
   "outputs": [
    {
     "name": "stdout",
     "output_type": "stream",
     "text": [
      "u:\n",
      " [[-0.40455358 -0.9145143 ]\n",
      " [-0.9145143   0.40455358]]\n",
      "s:\n",
      " [[5.4649857  0.        ]\n",
      " [0.         0.36596619]]\n",
      "v_t:\n",
      " [[-0.57604844 -0.81741556]\n",
      " [ 0.81741556 -0.57604844]]\n",
      "[[1. 2.]\n",
      " [3. 4.]]\n"
     ]
    }
   ],
   "source": [
    "u, s, v_t = np.linalg.svd(x)\n",
    "print('u:\\n', u)\n",
    "print('s:\\n', np.diag(s))\n",
    "print('v_t:\\n', v_t)  # v_transpose\n",
    "\n",
    "# Should give you the original matrix\n",
    "# [[1,2],\n",
    "#  [3,4]]\n",
    "print(u @ np.diag(s) @ v_t)"
   ]
  },
  {
   "cell_type": "markdown",
   "metadata": {},
   "source": [
    "### Broadcasting\n",
    "In all of the examples above, the matrices have compatible shapes. Under certain conditions, it is possible to perform arithmetic operations on numpy arrays with different shapes. The smaller array is \"broadcast\" across the larger array so that they have compatible shapes.\n",
    "\n",
    "In general, two dimensions are compatible when:\n",
    "1. They are equal, or\n",
    "2. One of them is one.\n",
    "\n",
    "For example, say we have a matrix $A$, and we want to add the elements of $b$ row-wise to $A$, i.e. add 1 to first row, 2 to the second, and 4 to the third. We could do it using a for loop like this:"
   ]
  },
  {
   "cell_type": "code",
   "execution_count": 31,
   "metadata": {},
   "outputs": [
    {
     "name": "stdout",
     "output_type": "stream",
     "text": [
      "[[ 2  3  4]\n",
      " [ 6  7  8]\n",
      " [11 12 13]]\n"
     ]
    }
   ],
   "source": [
    "A = np.array([[1, 2, 3],   # Shape of A: (3, 3)\n",
    "              [4, 5, 6],\n",
    "              [7, 8, 9]])  \n",
    "b = np.array([1, 2, 4])    # Shape of b: (3,)\n",
    "result = np.empty_like(A)  # Empty unitialized matrix the same size of A\n",
    "\n",
    "for i in range(3):\n",
    "    result[i, :] = A[i, :] + b[i]\n",
    "    \n",
    "print(result)"
   ]
  },
  {
   "cell_type": "markdown",
   "metadata": {},
   "source": [
    "However, for large matrices, an explicit loop can be slow. Another way is to tile/repeat b such that it has the same shape as A then add them:"
   ]
  },
  {
   "cell_type": "code",
   "execution_count": 32,
   "metadata": {},
   "outputs": [
    {
     "name": "stdout",
     "output_type": "stream",
     "text": [
      "[[ 2  3  4]\n",
      " [ 6  7  8]\n",
      " [11 12 13]]\n"
     ]
    }
   ],
   "source": [
    "b_2d = b[:, None]  # Reshapes b to (3, 1)\n",
    "b_tile = np.tile(b_2d, (1, 3))  # \"repeats\" the matrix 3x such that it's 3x3\n",
    "\n",
    "result = A + b_tile\n",
    "print(result)"
   ]
  },
  {
   "cell_type": "markdown",
   "metadata": {},
   "source": [
    "This works, but is memory inefficient since `b_tile` has to be stored in memory. Numpy broadcasting allows us to perform this without actually explicitly creating the copies of $b$:"
   ]
  },
  {
   "cell_type": "code",
   "execution_count": 33,
   "metadata": {},
   "outputs": [
    {
     "name": "stdout",
     "output_type": "stream",
     "text": [
      "[[ 2  3  4]\n",
      " [ 6  7  8]\n",
      " [11 12 13]]\n"
     ]
    }
   ],
   "source": [
    "print(A + b_2d)"
   ]
  },
  {
   "cell_type": "markdown",
   "metadata": {},
   "source": [
    "This works because the dimensions are compatible with broadcasting, as shown below:\n",
    "\n",
    "```\n",
    "A      (2d array): 3 x 3\n",
    "b_2d   (2d array): 3 x 1\n",
    "Result (2d array): 3 x 3\n",
    "```\n",
    "\n",
    "The smaller `b_2d` is implicitly repeated to shape of $(3,3)$ before the element wise addition. For more examples, do refer to the numpy broadcast [documentation](https://docs.scipy.org/doc/numpy/user/basics.broadcasting.html)."
   ]
  }
 ],
 "metadata": {
  "kernelspec": {
   "display_name": "Python 3",
   "language": "python",
   "name": "python3"
  },
  "language_info": {
   "codemirror_mode": {
    "name": "ipython",
    "version": 3
   },
   "file_extension": ".py",
   "mimetype": "text/x-python",
   "name": "python",
   "nbconvert_exporter": "python",
   "pygments_lexer": "ipython3",
   "version": "3.8.17"
  }
 },
 "nbformat": 4,
 "nbformat_minor": 2
}

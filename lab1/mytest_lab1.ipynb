{
 "cells": [
  {
   "cell_type": "code",
   "execution_count": 5,
   "metadata": {
    "collapsed": true
   },
   "outputs": [],
   "source": [
    "from factor import *"
   ]
  },
  {
   "cell_type": "code",
   "execution_count": 25,
   "outputs": [],
   "source": [
    "A = Factor(var=[0],\n",
    "                     card=[2],\n",
    "                     val=[0.8, 0.2])\n",
    "B = Factor(var=[0, 1],\n",
    "                     card=[2, 2],\n",
    "                     val=[0.4, 0.55, 0.6, 0.45])"
   ],
   "metadata": {
    "collapsed": false
   }
  },
  {
   "cell_type": "code",
   "execution_count": 26,
   "outputs": [
    {
     "name": "stdout",
     "output_type": "stream",
     "text": [
      "Factor containing 1 variables\n",
      "---------------------\n",
      "| X_0 | Probability |\n",
      "---------------------\n",
      "|  0  |         0.8 |\n",
      "|  1  |         0.2 |\n",
      "---------------------\n",
      "\n",
      "\n",
      "Factor containing 2 variables\n",
      "-------------------------\n",
      "| X_0 X_1 | Probability |\n",
      "-------------------------\n",
      "|  0   0  |         0.4 |\n",
      "|  1   0  |        0.55 |\n",
      "|  0   1  |         0.6 |\n",
      "|  1   1  |        0.45 |\n",
      "-------------------------\n",
      "\n",
      "\n"
     ]
    }
   ],
   "source": [
    "print(A)\n",
    "print(B)"
   ],
   "metadata": {
    "collapsed": false
   }
  },
  {
   "cell_type": "code",
   "execution_count": 27,
   "outputs": [
    {
     "name": "stdout",
     "output_type": "stream",
     "text": [
      "[[0 0]\n",
      " [1 0]\n",
      " [0 1]\n",
      " [1 1]]\n",
      "[0 1 0 1]\n",
      "[0 1 2 3]\n",
      "Factor containing 2 variables\n",
      "-------------------------\n",
      "| X_0 X_1 | Probability |\n",
      "-------------------------\n",
      "|  0   0  |        0.32 |\n",
      "|  1   0  |        0.11 |\n",
      "|  0   1  |        0.48 |\n",
      "|  1   1  |        0.09 |\n",
      "-------------------------\n",
      "\n",
      "\n"
     ]
    }
   ],
   "source": [
    "def factor_product(A, B):\n",
    "    \"\"\"Compute product of two factors.\n",
    "\n",
    "    Suppose A = phi(X_1, X_2), B = phi(X_2, X_3), the function should return\n",
    "    phi(X_1, X_2, X_3)\n",
    "    \"\"\"\n",
    "    if A.is_empty():\n",
    "        return B\n",
    "    if B.is_empty():\n",
    "        return A\n",
    "\n",
    "    # Create output factor. Variables should be the union between of the\n",
    "    # variables contained in the two input factors\n",
    "    out = Factor()\n",
    "    out.var = np.union1d(A.var, B.var)\n",
    "    #print(out.var)\n",
    "    out.card = np.zeros(len(out.var), np.int64)\n",
    "    # print(out.card)\n",
    "    mapA = np.argmax(out.var[None, :] == A.var[:, None], axis=-1)\n",
    "    #print(mapA)\n",
    "    mapB = np.argmax(out.var[None, :] == B.var[:, None], axis=-1)\n",
    "    #print(mapB)\n",
    "    out.card[mapA] = A.card\n",
    "    out.card[mapB] = B.card\n",
    "    # print(out.card)\n",
    "    out.val = np.zeros(np.prod(out.card))\n",
    "    # print(out.val)\n",
    "    assignments = out.get_all_assignments()\n",
    "    print(assignments)\n",
    "    idxA = assignment_to_index(assignments[:, mapA], A.card)\n",
    "    # print(assignments[:, mapA])\n",
    "    print(idxA)\n",
    "    idxB = assignment_to_index(assignments[:, mapB], B.card)\n",
    "    print(idxB)\n",
    "    out.val = A.val[idxA]*B.val[idxB]\n",
    "    print(out)\n",
    "\n",
    "factor_product(A,B)"
   ],
   "metadata": {
    "collapsed": false
   }
  },
  {
   "cell_type": "code",
   "execution_count": null,
   "outputs": [],
   "source": [],
   "metadata": {
    "collapsed": false
   }
  }
 ],
 "metadata": {
  "kernelspec": {
   "display_name": "Python 3",
   "language": "python",
   "name": "python3"
  },
  "language_info": {
   "codemirror_mode": {
    "name": "ipython",
    "version": 2
   },
   "file_extension": ".py",
   "mimetype": "text/x-python",
   "name": "python",
   "nbconvert_exporter": "python",
   "pygments_lexer": "ipython2",
   "version": "2.7.6"
  }
 },
 "nbformat": 4,
 "nbformat_minor": 0
}

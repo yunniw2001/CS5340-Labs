{
 "cells": [
  {
   "cell_type": "code",
   "execution_count": 5,
   "metadata": {
    "collapsed": true
   },
   "outputs": [],
   "source": [
    "import numpy as np\n",
    "\n",
    "from factor import *"
   ]
  },
  {
   "cell_type": "code",
   "execution_count": 31,
   "outputs": [],
   "source": [
    "A = Factor(var=[0],\n",
    "                     card=[2],\n",
    "                     val=[0.8, 0.2])\n",
    "B = Factor(var=[0, 1],\n",
    "                     card=[2, 2],\n",
    "                     val=[0.4, 0.55, 0.6, 0.45])"
   ],
   "metadata": {
    "collapsed": false
   }
  },
  {
   "cell_type": "code",
   "execution_count": 26,
   "outputs": [
    {
     "name": "stdout",
     "output_type": "stream",
     "text": [
      "Factor containing 1 variables\n",
      "---------------------\n",
      "| X_0 | Probability |\n",
      "---------------------\n",
      "|  0  |         0.8 |\n",
      "|  1  |         0.2 |\n",
      "---------------------\n",
      "\n",
      "\n",
      "Factor containing 2 variables\n",
      "-------------------------\n",
      "| X_0 X_1 | Probability |\n",
      "-------------------------\n",
      "|  0   0  |         0.4 |\n",
      "|  1   0  |        0.55 |\n",
      "|  0   1  |         0.6 |\n",
      "|  1   1  |        0.45 |\n",
      "-------------------------\n",
      "\n",
      "\n"
     ]
    }
   ],
   "source": [
    "print(A)\n",
    "print(B)"
   ],
   "metadata": {
    "collapsed": false
   }
  },
  {
   "cell_type": "code",
   "execution_count": 28,
   "outputs": [],
   "source": [
    "def factor_product(A, B):\n",
    "    \"\"\"Compute product of two factors.\n",
    "\n",
    "    Suppose A = phi(X_1, X_2), B = phi(X_2, X_3), the function should return\n",
    "    phi(X_1, X_2, X_3)\n",
    "    \"\"\"\n",
    "    if A.is_empty():\n",
    "        return B\n",
    "    if B.is_empty():\n",
    "        return A\n",
    "\n",
    "    # Create output factor. Variables should be the union between of the\n",
    "    # variables contained in the two input factors\n",
    "    out = Factor()\n",
    "    out.var = np.union1d(A.var, B.var)\n",
    "    #print(out.var)\n",
    "    out.card = np.zeros(len(out.var), np.int64)\n",
    "    # print(out.card)\n",
    "    mapA = np.argmax(out.var[None, :] == A.var[:, None], axis=-1)\n",
    "    #print(mapA)\n",
    "    mapB = np.argmax(out.var[None, :] == B.var[:, None], axis=-1)\n",
    "    #print(mapB)\n",
    "    out.card[mapA] = A.card\n",
    "    out.card[mapB] = B.card\n",
    "    # print(out.card)\n",
    "    out.val = np.zeros(np.prod(out.card))\n",
    "    # print(out.val)\n",
    "    assignments = out.get_all_assignments()\n",
    "    # print(assignments)\n",
    "    idxA = assignment_to_index(assignments[:, mapA], A.card)\n",
    "    # print(assignments[:, mapA])\n",
    "    # print(idxA)\n",
    "    idxB = assignment_to_index(assignments[:, mapB], B.card)\n",
    "    # print(idxB)\n",
    "    out.val = A.val[idxA]*B.val[idxB]\n",
    "    # print(out)\n",
    "    return out\n",
    "# factor_product(A,B)"
   ],
   "metadata": {
    "collapsed": false
   }
  },
  {
   "cell_type": "code",
   "execution_count": 89,
   "outputs": [
    {
     "name": "stdout",
     "output_type": "stream",
     "text": [
      "Factor containing 1 variables\n",
      "---------------------\n",
      "| X_3 | Probability |\n",
      "---------------------\n",
      "|  0  |        0.75 |\n",
      "|  1  |        1.05 |\n",
      "|  2  |         0.2 |\n",
      "---------------------\n",
      "\n",
      "\n"
     ]
    }
   ],
   "source": [
    "def factor_marginalize(factor, var):\n",
    "    \"\"\"Sums over a list of variables.\n",
    "\n",
    "    Args:\n",
    "        factor (Factor): Input factor\n",
    "        var (List): Variables to marginalize out\n",
    "\n",
    "    Returns:\n",
    "        out: Factor with variables in 'var' marginalized out.\n",
    "    \"\"\"\n",
    "    out = Factor()\n",
    "\n",
    "    \"\"\" YOUR CODE HERE\n",
    "    Marginalize out the variables given in var\n",
    "    \"\"\"\n",
    "    out.var = np.setdiff1d(factor.var, var)\n",
    "    out.card = factor.card[np.where(factor.var != var)[0]]\n",
    "    # print(factor.card)\n",
    "    # out.card = factor.card[out.var]\n",
    "    # print(out.card)\n",
    "    var = np.array(var)\n",
    "    # print(var[:, None])\n",
    "    var_axis = tuple(np.where(factor.var == var)[0])\n",
    "    merge_axis = tuple(np.where(factor.var != var)[0])\n",
    "    # print(var_axis)\n",
    "\n",
    "    # print(out.card)\n",
    "    # merge_axis = tuple(np.where(factor.var!=var)[0])\n",
    "    # var_axis = tuple(np.where(factor.var == var)[0])\n",
    "    # print(merge_axis)\n",
    "    # print(var_axis)\n",
    "    # print(factor.val)\n",
    "    out.val = np.zeros(np.prod(out.card))\n",
    "    # print(out.val)\n",
    "    all_assignments = factor.get_all_assignments()\n",
    "    first_ap_row, indices = np.unique(all_assignments[:, merge_axis], return_inverse=True)\n",
    "    out.val = np.bincount(indices, weights=factor.val)\n",
    "    # print(all_assignments)\n",
    "    # print(sums)\n",
    "    # print(out.var)\n",
    "    # print(out.card)\n",
    "    # print(out.val)\n",
    "    # result = np.column_stack((first_ap_row, out.val))\n",
    "    # print(result)\n",
    "    # print(out)\n",
    "    return out\n",
    "factor = Factor(var=[2, 3],\n",
    "                    card=[2, 3],\n",
    "                    val=[0.4, 0.35, 0.6, 0.45, 0.0, 0.2])\n",
    "vars_to_marginalize_out = [2]\n",
    "output = factor_marginalize(factor, vars_to_marginalize_out)\n",
    "print(output)\n"
   ],
   "metadata": {
    "collapsed": false
   }
  }
 ],
 "metadata": {
  "kernelspec": {
   "display_name": "Python 3",
   "language": "python",
   "name": "python3"
  },
  "language_info": {
   "codemirror_mode": {
    "name": "ipython",
    "version": 2
   },
   "file_extension": ".py",
   "mimetype": "text/x-python",
   "name": "python",
   "nbconvert_exporter": "python",
   "pygments_lexer": "ipython2",
   "version": "2.7.6"
  }
 },
 "nbformat": 4,
 "nbformat_minor": 0
}
